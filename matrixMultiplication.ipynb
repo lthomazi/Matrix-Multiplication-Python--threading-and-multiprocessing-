{
 "cells": [
  {
   "cell_type": "code",
   "execution_count": 1,
   "metadata": {},
   "outputs": [],
   "source": [
    "import numpy as np\n",
    "import time"
   ]
  },
  {
   "cell_type": "code",
   "execution_count": 2,
   "metadata": {},
   "outputs": [
    {
     "name": "stdout",
     "output_type": "stream",
     "text": [
      "[[ 32 758 967 730]\n",
      " [552 252 720 920]\n",
      " [978 543 449 126]\n",
      " [ 88 942 414 941]] \n",
      " [[249  68 780 885]\n",
      " [375 767 411 744]\n",
      " [192 770 631 745]\n",
      " [684 527 706 205]]\n"
     ]
    }
   ],
   "source": [
    "# Defining a size for the matriaes\n",
    "size = 4\n",
    "\n",
    "# Creating random arrabs of size 'size'\n",
    "a = np.random.randint(1000, size=(size,size))\n",
    "b = np.random.randint(1000, size=(size,size))\n",
    "print(a, '\\n', b)\n",
    "# Placeholder for final regular pbthon multiplication\n",
    "regMulti = np.zeros((size,size))\n",
    "threadMulti = np.zeros((size,size))\n"
   ]
  },
  {
   "cell_type": "code",
   "execution_count": 3,
   "metadata": {},
   "outputs": [
    {
     "name": "stdout",
     "output_type": "stream",
     "text": [
      "6.325000000018122e-05 seconds\n"
     ]
    }
   ],
   "source": [
    "# Begin timer\n",
    "nptimer1 = time.perf_counter()\n",
    "\n",
    "# The math\n",
    "npMulti = np.dot(a,b)\n",
    "\n",
    "# End timer\n",
    "nptimer2 = time.perf_counter()\n",
    "\n",
    "# Calculating duration\n",
    "npDuration = nptimer2 - nptimer1\n",
    "print(npDuration, 'seconds')\n"
   ]
  },
  {
   "cell_type": "code",
   "execution_count": 4,
   "metadata": {},
   "outputs": [
    {
     "name": "stdout",
     "output_type": "stream",
     "text": [
      "0.0001514579999999377 seconds\n"
     ]
    }
   ],
   "source": [
    "# Begin timer\n",
    "regtimer1 = time.perf_counter()\n",
    "\n",
    "#The math\n",
    "for i in range(len(a)):\n",
    "   # iterate through columns of a\n",
    "   for j in range(len(b[0])):\n",
    "       # iterate through rows of b\n",
    "       for k in range(len(b)):\n",
    "           regMulti[i][j] += a[i][k] * b[k][j]\n",
    "\n",
    "# End Timer\n",
    "regtimer2 = time.perf_counter()\n",
    "\n",
    "# Calculating duration\n",
    "regDuration = regtimer2 - regtimer1\n",
    "print(regDuration, 'seconds')"
   ]
  },
  {
   "cell_type": "code",
   "execution_count": 5,
   "metadata": {},
   "outputs": [
    {
     "name": "stdout",
     "output_type": "stream",
     "text": [
      "Equal\n"
     ]
    }
   ],
   "source": [
    "if not np.array_equal(regMulti,npMulti):\n",
    "    print(regMulti, '\\n\\n')\n",
    "    print(npMulti)\n",
    "else:\n",
    "    print(\"Equal\")"
   ]
  },
  {
   "cell_type": "markdown",
   "metadata": {},
   "source": [
    "Notice multipliying arrays with python is extremely inefficient; here i will investigate how threading and multiprocessing compares to the \"normal\" python multiplication and if it is quicker than numpy which uses C (language known for being fast)"
   ]
  },
  {
   "cell_type": "markdown",
   "metadata": {},
   "source": [
    "Threading vs Multiprocessing\n",
    "\n",
    "Threading:\n",
    "\n",
    "    - a new thread is spawned within the eaisting process\n",
    "\n",
    "    - Starting a thread is faster than starting a process\n",
    "\n",
    "    - Memorb is shared between all threads\n",
    "\n",
    "    - Muteaes often necessarb to control access to shared data\n",
    "\n",
    "    - One GIL (Global Interpreter Lock) for all threads\n",
    "\n",
    "\n",
    "Multiprocessing:\n",
    "\n",
    "    - a new process is started independent from the first process\n",
    "\n",
    "    - Starting a process is slower than starting a thread\n",
    "\n",
    "    - Memorb is not shared between processes\n",
    "\n",
    "    - Muteaes not necessarb (unless threading in the new process)\n",
    "\n",
    "    - One GIL (Global Interpreter Lock) for each process\n",
    "    "
   ]
  },
  {
   "cell_type": "code",
   "execution_count": 6,
   "metadata": {},
   "outputs": [],
   "source": [
    "import threading"
   ]
  },
  {
   "cell_type": "code",
   "execution_count": 7,
   "metadata": {},
   "outputs": [
    {
     "name": "stdout",
     "output_type": "stream",
     "text": [
      " [[0. 0. 0. 0.]\n",
      " [0. 0. 0. 0.]\n",
      " [0. 0. 0. 0.]\n",
      " [0. 0. 0. 0.]] [[0. 0. 0. 0.]\n",
      " [0. 0. 0. 0.]\n",
      " [0. 0. 0. 0.]\n",
      " [0. 0. 0. 0.]]\n",
      " [[7968.    0.    0.    0.]\n",
      " [   0.    0.    0.    0.]\n",
      " [   0.    0.    0.    0.]\n",
      " [   0.    0.    0.    0.]]\n",
      " [[ 7968. 24544.     0.     0.]\n",
      " [    0.     0.     0.     0.]\n",
      " [    0.     0.     0.     0.]\n",
      " [    0.     0.     0.     0.]]\n",
      " [[ 7968. 24544. 20192.     0.]\n",
      " [    0.     0.     0.     0.]\n",
      " [    0.     0.     0.     0.]\n",
      " [    0.     0.     0.     0.]]\n",
      "\n",
      " [[145416.  24544.  20192.   6560.]\n",
      " [     0.      0.      0.      0.]\n",
      " [     0.      0.      0.      0.]\n",
      " [     0.      0.      0.      0.]]\n",
      " [[145416. 447928.  20192.   6560.]\n",
      " [     0.      0.      0.      0.]\n",
      " [     0.      0.      0.      0.]\n",
      " [     0.      0.      0.      0.]]\n",
      " [[145416. 447928. 368504.   6560.]\n",
      " [     0.      0.      0.      0.]\n",
      " [     0.      0.      0.      0.]\n",
      " [     0.      0.      0.      0.]]\n",
      " [[145416. 447928. 368504. 119720.]\n",
      " [     0.      0.      0.      0.]\n",
      " [     0.      0.      0.      0.]\n",
      " [     0.      0.      0.      0.]] [[145416. 447928. 368504. 119720.]\n",
      " [     0.      0.      0.      0.]\n",
      " [     0.      0.      0.      0.]\n",
      " [     0.      0.      0.      0.]]\n",
      " [[388938. 447928. 368504. 119720.]\n",
      " [     0.      0.      0.      0.]\n",
      " [     0.      0.      0.      0.]\n",
      " [     0.      0.      0.      0.]]\n",
      " [[ 388938. 1198054.  368504.  119720.]\n",
      " [      0.       0.       0.       0.]\n",
      " [      0.       0.       0.       0.]\n",
      " [      0.       0.       0.       0.]]\n",
      " [[ 388938. 1198054.  985622.  119720.]\n",
      " [      0.       0.       0.       0.]\n",
      " [      0.       0.       0.       0.]\n",
      " [      0.       0.       0.       0.]]\n",
      "\n",
      " [[ 410850. 1198054.  985622.  320210.]\n",
      " [      0.       0.       0.       0.]\n",
      " [      0.       0.       0.       0.]\n",
      " [      0.       0.       0.       0.]]\n",
      " [[ 410850. 1265550.  985622.  320210.]\n",
      " [      0.       0.       0.       0.]\n",
      " [      0.       0.       0.       0.]\n",
      " [      0.       0.       0.       0.]]\n",
      " [[ 410850. 1265550. 1041150.  320210.]\n",
      " [      0.       0.       0.       0.]\n",
      " [      0.       0.       0.       0.]\n",
      " [      0.       0.       0.       0.]]\n",
      "[[ 410850. 1265550. 1041150.  338250.]\n",
      " [      0.       0.       0.       0.]\n",
      " [      0.       0.       0.       0.]\n",
      " [      0.       0.       0.       0.]]\n"
     ]
    }
   ],
   "source": [
    "#TODO fix math\n",
    "m = 4\n",
    "\n",
    "#threadMulti = [[0]*m]*m\n",
    "#print(a,'\\n',b)\n",
    "#print(np.dot(a,b))\n",
    " \n",
    "def mult(a, b):\n",
    "   k=0\n",
    "   for z in range(len(b[0])):\n",
    "         print(f\" {threadMulti}\")\n",
    "         threadMulti[0][z] += a[0] * b[k][z]\n",
    "         k += 1\n",
    "   \n",
    " \n",
    "threads = list()\n",
    "start = time.perf_counter()\n",
    "for i in range(len(a[0])):\n",
    "   x = threading.Thread(target = mult, args=(a[i], b))\n",
    "   threads.append(x)\n",
    "   x.start()\n",
    " \n",
    "for index, thread in enumerate(threads):\n",
    "   thread.join()\n",
    "end = time.perf_counter()\n",
    " \n",
    "#print(f\"Time taken to complete mult() {m}x{m}: {round(end - start, 5)} seconds(s)\")\n",
    "print(threadMulti)"
   ]
  },
  {
   "cell_type": "code",
   "execution_count": 8,
   "metadata": {},
   "outputs": [
    {
     "name": "stdout",
     "output_type": "stream",
     "text": [
      "[[ 410850. 1265550. 1041150.  338250.]\n",
      " [      0.       0.       0.       0.]\n",
      " [      0.       0.       0.       0.]\n",
      " [      0.       0.       0.       0.]] \n",
      "\n",
      "\n",
      "[[ 977202 1712862 1462055 1462337]\n",
      " [ 999468 1270060 1637972 1401008]\n",
      " [ 619539  895117 1358288 1629857]\n",
      " [1098294 1543185 1381382 1280063]]\n"
     ]
    }
   ],
   "source": [
    "if not np.array_equal(threadMulti,npMulti):\n",
    "    print(threadMulti, '\\n\\n')\n",
    "    print(npMulti)\n",
    "else:\n",
    "    print(\"Equal\")"
   ]
  },
  {
   "cell_type": "code",
   "execution_count": null,
   "metadata": {},
   "outputs": [],
   "source": []
  }
 ],
 "metadata": {
  "interpreter": {
   "hash": "cdd42eca84c7b0511f6488064fff6d066754d53370e51f84442871af35a8c199"
  },
  "kernelspec": {
   "display_name": "Python 3.9.7 64-bit ('base': conda)",
   "language": "python",
   "name": "python3"
  },
  "language_info": {
   "codemirror_mode": {
    "name": "ipython",
    "version": 3
   },
   "file_extension": ".py",
   "mimetype": "text/x-python",
   "name": "python",
   "nbconvert_exporter": "python",
   "pygments_lexer": "ipython3",
   "version": "3.9.7"
  },
  "orig_nbformat": 4
 },
 "nbformat": 4,
 "nbformat_minor": 2
}
