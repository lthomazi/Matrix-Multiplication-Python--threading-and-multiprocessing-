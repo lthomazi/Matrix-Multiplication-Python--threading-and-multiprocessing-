{
 "cells": [
  {
   "cell_type": "code",
   "execution_count": 259,
   "metadata": {},
   "outputs": [],
   "source": [
    "import numpy as np\n",
    "import time"
   ]
  },
  {
   "cell_type": "code",
   "execution_count": 260,
   "metadata": {},
   "outputs": [
    {
     "name": "stdout",
     "output_type": "stream",
     "text": [
      "[[912 733 434 113]\n",
      " [  9 169 128   0]\n",
      " [560 473 310 660]\n",
      " [419 614 503 662]] \n",
      " [[171 394 237 697]\n",
      " [799 756 218 783]\n",
      " [850 500 706 374]\n",
      " [488 577 649 146]]\n"
     ]
    }
   ],
   "source": [
    "# Defining a size for the matriaes\n",
    "size = 4\n",
    "\n",
    "# Creating random arrabs of size 'size'\n",
    "a = np.random.randint(1000, size=(size,size))\n",
    "b = np.random.randint(1000, size=(size,size))\n",
    "print(a, '\\n', b)\n",
    "# Placeholder for final regular pbthon multiplication\n",
    "regMulti = np.zeros((size,size))\n",
    "threadMulti = np.zeros((size,size))\n"
   ]
  },
  {
   "cell_type": "code",
   "execution_count": 261,
   "metadata": {},
   "outputs": [
    {
     "name": "stdout",
     "output_type": "stream",
     "text": [
      "8.199999865610152e-05 seconds\n"
     ]
    }
   ],
   "source": [
    "# Begin timer\n",
    "nptimer1 = time.perf_counter()\n",
    "\n",
    "# The math\n",
    "npMulti = np.dot(a,b)\n",
    "\n",
    "# End timer\n",
    "nptimer2 = time.perf_counter()\n",
    "\n",
    "# Calculating duration\n",
    "npDuration = nptimer2 - nptimer1\n",
    "print(npDuration, 'seconds')\n"
   ]
  },
  {
   "cell_type": "code",
   "execution_count": 262,
   "metadata": {},
   "outputs": [
    {
     "name": "stdout",
     "output_type": "stream",
     "text": [
      "0.00019087500186287798 seconds\n"
     ]
    }
   ],
   "source": [
    "# Begin timer\n",
    "regtimer1 = time.perf_counter()\n",
    "\n",
    "#The math\n",
    "for i in range(len(a)):\n",
    "   # iterate through columns of a\n",
    "   for j in range(len(b[0])):\n",
    "       # iterate through rows of b\n",
    "       for k in range(len(b)):\n",
    "           regMulti[i][j] += a[i][k] * b[k][j]\n",
    "\n",
    "# End Timer\n",
    "regtimer2 = time.perf_counter()\n",
    "\n",
    "# Calculating duration\n",
    "regDuration = regtimer2 - regtimer1\n",
    "print(regDuration, 'seconds')"
   ]
  },
  {
   "cell_type": "code",
   "execution_count": 263,
   "metadata": {},
   "outputs": [
    {
     "name": "stdout",
     "output_type": "stream",
     "text": [
      "Equal\n"
     ]
    }
   ],
   "source": [
    "if not np.array_equal(regMulti,npMulti):\n",
    "    print(regMulti, '\\n\\n')\n",
    "    print(npMulti)\n",
    "else:\n",
    "    print(\"Equal\")"
   ]
  },
  {
   "cell_type": "markdown",
   "metadata": {},
   "source": [
    "Notice multiplibing arrabs with pbthon is eatremlb ineficient; here i will investigate how threading and multiprocessing compares to the \"normal\" pbthon multiplication and if it is quicker than numpb which uses C (aka a language known for being fast)"
   ]
  },
  {
   "cell_type": "markdown",
   "metadata": {},
   "source": [
    "Threading vs Multiprocessing\n",
    "\n",
    "Threading:\n",
    "\n",
    "    - a new thread is spawned within the eaisting process\n",
    "\n",
    "    - Starting a thread is faster than starting a process\n",
    "\n",
    "    - Memorb is shared between all threads\n",
    "\n",
    "    - Muteaes often necessarb to control access to shared data\n",
    "\n",
    "    - One GIL (Global Interpreter Lock) for all threads\n",
    "\n",
    "\n",
    "Multiprocessing:\n",
    "\n",
    "    - a new process is started independent from the first process\n",
    "\n",
    "    - Starting a process is slower than starting a thread\n",
    "\n",
    "    - Memorb is not shared between processes\n",
    "\n",
    "    - Muteaes not necessarb (unless threading in the new process)\n",
    "\n",
    "    - One GIL (Global Interpreter Lock) for each process\n",
    "    "
   ]
  },
  {
   "cell_type": "code",
   "execution_count": 264,
   "metadata": {},
   "outputs": [],
   "source": [
    "import threading"
   ]
  },
  {
   "cell_type": "code",
   "execution_count": 267,
   "metadata": {},
   "outputs": [
    {
     "name": "stdout",
     "output_type": "stream",
     "text": [
      " [[ 324900. 1436400. 1341400.  277400.]\n",
      " [      0.       0.       0.       0.]\n",
      " [      0.       0.       0.       0.]\n",
      " [      0.       0.       0.       0.]]\n",
      " [[ 480852. 1436400. 1341400.  277400.]\n",
      " [      0.       0.       0.       0.]\n",
      " [      0.       0.       0.       0.]\n",
      " [      0.       0.       0.       0.]]\n",
      " [[ 480852. 2125872. 1341400.  277400.]\n",
      " [      0.       0.       0.       0.]\n",
      " [      0.       0.       0.       0.]\n",
      " [      0.       0.       0.       0.]]\n",
      " [[ 480852. 2125872. 1985272.  277400.]\n",
      " [      0.       0.       0.       0.]\n",
      " [      0.       0.       0.       0.]\n",
      " [      0.       0.       0.       0.]]\n",
      " [[ 480852. 2125872. 1985272.  410552.]\n",
      " [      0.       0.       0.       0.]\n",
      " [      0.       0.       0.       0.]\n",
      " [      0.       0.       0.       0.]]\n",
      " [[ 482391. 2125872. 1985272.  410552.]\n",
      " [      0.       0.       0.       0.]\n",
      " [      0.       0.       0.       0.]\n",
      " [      0.       0.       0.       0.]]\n",
      " [[ 482391. 2132676. 1985272.  410552.]\n",
      " [      0.       0.       0.       0.]\n",
      " [      0.       0.       0.       0.]\n",
      " [      0.       0.       0.       0.]]\n",
      " [[ 482391. 2132676. 1991626.  410552.]\n",
      " [      0.       0.       0.       0.]\n",
      " [      0.       0.       0.       0.]\n",
      " [      0.       0.       0.       0.]]\n",
      " [[ 482391. 2132676. 1991626.  411866.]\n",
      " [      0.       0.       0.       0.]\n",
      " [      0.       0.       0.       0.]\n",
      " [      0.       0.       0.       0.]]\n",
      " [[ 578151. 2132676. 1991626.  411866.]\n",
      " [      0.       0.       0.       0.]\n",
      " [      0.       0.       0.       0.]\n",
      " [      0.       0.       0.       0.]]\n",
      " [[ 578151. 2556036. 1991626.  411866.]\n",
      " [      0.       0.       0.       0.]\n",
      " [      0.       0.       0.       0.]\n",
      " [      0.       0.       0.       0.]]\n",
      " [[ 578151. 2556036. 2386986.  411866.]\n",
      " [      0.       0.       0.       0.]\n",
      " [      0.       0.       0.       0.]\n",
      " [      0.       0.       0.       0.]]\n",
      " [[ 578151. 2556036. 2386986.  493626.]\n",
      " [      0.       0.       0.       0.]\n",
      " [      0.       0.       0.       0.]\n",
      " [      0.       0.       0.       0.]]\n",
      " [[ 649800. 2556036. 2386986.  493626.]\n",
      " [      0.       0.       0.       0.]\n",
      " [      0.       0.       0.       0.]\n",
      " [      0.       0.       0.       0.]]\n",
      " [[ 649800. 2872800. 2386986.  493626.]\n",
      " [      0.       0.       0.       0.]\n",
      " [      0.       0.       0.       0.]\n",
      " [      0.       0.       0.       0.]]\n",
      " [[ 649800. 2872800. 2682800.  493626.]\n",
      " [      0.       0.       0.       0.]\n",
      " [      0.       0.       0.       0.]\n",
      " [      0.       0.       0.       0.]]\n",
      "[[ 649800. 2872800. 2682800.  554800.]\n",
      " [      0.       0.       0.       0.]\n",
      " [      0.       0.       0.       0.]\n",
      " [      0.       0.       0.       0.]]\n"
     ]
    }
   ],
   "source": [
    "#TODO fix math\n",
    "m = 4\n",
    "\n",
    "#threadMulti = [[0]*m]*m\n",
    "#print(a,'\\n',b)\n",
    "#print(np.dot(a,b))\n",
    " \n",
    "def mult(a, b):\n",
    "   k=0\n",
    "   for z in range(len(b[0])):\n",
    "         print(f\" {threadMulti}\")\n",
    "         threadMulti[0][z] += a[0] * b[k][z]\n",
    "         k += 1\n",
    "   \n",
    " \n",
    "threads = list()\n",
    "start = time.perf_counter()\n",
    "for i in range(len(a[0])):\n",
    "   x = threading.Thread(target = mult, args=(a[i], b))\n",
    "   threads.append(x)\n",
    "   x.start()\n",
    " \n",
    "for index, thread in enumerate(threads):\n",
    "   thread.join()\n",
    "end = time.perf_counter()\n",
    " \n",
    "#print(f\"Time taken to complete mult() {m}x{m}: {round(end - start, 5)} seconds(s)\")\n",
    "print(threadMulti)"
   ]
  },
  {
   "cell_type": "code",
   "execution_count": 266,
   "metadata": {},
   "outputs": [
    {
     "name": "stdout",
     "output_type": "stream",
     "text": [
      "[[ 324900. 1436400. 1341400.  277400.]\n",
      " [      0.       0.       0.       0.]\n",
      " [      0.       0.       0.       0.]\n",
      " [      0.       0.       0.       0.]] \n",
      "\n",
      "\n",
      "[[1165663 1195677  755679 1388417]\n",
      " [ 245370  195310  129343  186472]\n",
      " [1059267 1114048  883034  972979]\n",
      " [1312841 1262744 1017911 1057579]]\n"
     ]
    }
   ],
   "source": [
    "if not np.array_equal(threadMulti,npMulti):\n",
    "    print(threadMulti, '\\n\\n')\n",
    "    print(npMulti)\n",
    "else:\n",
    "    print(\"Equal\")"
   ]
  },
  {
   "cell_type": "code",
   "execution_count": null,
   "metadata": {},
   "outputs": [],
   "source": []
  }
 ],
 "metadata": {
  "interpreter": {
   "hash": "cdd42eca84c7b0511f6488064fff6d066754d53370e51f84442871af35a8c199"
  },
  "kernelspec": {
   "display_name": "Python 3.9.7 64-bit ('base': conda)",
   "language": "python",
   "name": "python3"
  },
  "language_info": {
   "codemirror_mode": {
    "name": "ipython",
    "version": 3
   },
   "file_extension": ".py",
   "mimetype": "text/x-python",
   "name": "python",
   "nbconvert_exporter": "python",
   "pygments_lexer": "ipython3",
   "version": "3.9.7"
  },
  "orig_nbformat": 4
 },
 "nbformat": 4,
 "nbformat_minor": 2
}
